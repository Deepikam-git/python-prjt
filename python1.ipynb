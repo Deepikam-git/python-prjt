{
  "nbformat": 4,
  "nbformat_minor": 0,
  "metadata": {
    "colab": {
      "provenance": [],
      "authorship_tag": "ABX9TyMxsoLdcsjM6p0mnZzNfest",
      "include_colab_link": true
    },
    "kernelspec": {
      "name": "python3",
      "display_name": "Python 3"
    },
    "language_info": {
      "name": "python"
    }
  },
  "cells": [
    {
      "cell_type": "markdown",
      "metadata": {
        "id": "view-in-github",
        "colab_type": "text"
      },
      "source": [
        "<a href=\"https://colab.research.google.com/github/Deepikam-git/python-prjt/blob/main/python1.ipynb\" target=\"_parent\"><img src=\"https://colab.research.google.com/assets/colab-badge.svg\" alt=\"Open In Colab\"/></a>"
      ]
    },
    {
      "cell_type": "code",
      "execution_count": 2,
      "metadata": {
        "colab": {
          "base_uri": "https://localhost:8080/"
        },
        "id": "X28-3MX0dbGn",
        "outputId": "17c460c7-344c-40f2-813a-4c41bd26ff11"
      },
      "outputs": [
        {
          "output_type": "stream",
          "name": "stdout",
          "text": [
            "21\n"
          ]
        }
      ],
      "source": [
        "age=21\n",
        "print(age)"
      ]
    },
    {
      "cell_type": "code",
      "source": [
        "age=21\n",
        "print(\"you are\" + str(age)+ \"years old\")\n",
        "print(\"you are\" ,age ,\"years old\")\n",
        "print(\"you are \" + str(age)+ \" years old\")"
      ],
      "metadata": {
        "colab": {
          "base_uri": "https://localhost:8080/"
        },
        "id": "BzFYreB9jXz5",
        "outputId": "a38bd96f-33cb-4d17-8c90-029f5c358508"
      },
      "execution_count": 9,
      "outputs": [
        {
          "output_type": "stream",
          "name": "stdout",
          "text": [
            "you are21years old\n",
            "you are 21 years old\n",
            "you are 21 years old\n"
          ]
        }
      ]
    }
  ]
}